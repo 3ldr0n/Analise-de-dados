{
 "cells": [
  {
   "cell_type": "code",
   "execution_count": 3,
   "metadata": {},
   "outputs": [],
   "source": [
    "import matplotlib.pyplot as plt\n",
    "import numpy as np\n",
    "import pandas as pd"
   ]
  },
  {
   "cell_type": "code",
   "execution_count": 2,
   "metadata": {},
   "outputs": [],
   "source": [
    "dados = {\n",
    "    \"alabama\": [72, \"s\"],\n",
    "    \"alasca\": 68,\n",
    "    \"arizona\": 78,\n",
    "    \"arkansas\": 81,\n",
    "    \"california\": 76,\n",
    "    \"colorado\": 74,\n",
    "    \"connecticut\": 83,\n",
    "    \"delaware\": 78,\n",
    "    \"florida\": 71,\n",
    "    \"georgia\": 67,\n",
    "    \"havai\": 80,\n",
    "    \"idaho\": 0,\n",
    "    \"illinois\": 84,\n",
    "    \"indiana\": 86,\n",
    "    \"iowa\": 88,\n",
    "    \"kansas\": 83,\n",
    "    \"kentucky\": 0,\n",
    "    \"louisiana\": 71,\n",
    "    \"maine\": 84,\n",
    "    \"maryland\": 83,\n",
    "    \"massachusetts\": 83,\n",
    "    \"michigan\": 74,\n",
    "    \"minnesota\": 77,\n",
    "    \"mississippi\": 75,\n",
    "    \"misouri\": 81,\n",
    "    \"montana\": 82,\n",
    "    \"nebraska\": 86,\n",
    "    \"nevada\": 62,\n",
    "    \"new hamsphire\": 86,\n",
    "    \"nova_jersey\": 83,\n",
    "    \"novo_mexico\": 86,\n",
    "    \"nova_iorque\": 77,\n",
    "    \"carolina_do_norte\": 78,\n",
    "    \"dakota_do_norte\": 86,\n",
    "    \"ohio\": 80,\n",
    "    \"oklahoma\": 0,\n",
    "    \"oregon\": 68,\n",
    "    \"pensilvania\": 83,\n",
    "    \"hode_island\": 77,\n",
    "    \"carolina_do_sul\": 74,\n",
    "    \"dakota_do_sul\": 83,\n",
    "    \"tenesee\": 86,\n",
    "    \"texas\": 86,\n",
    "    \"utah\": 78,\n",
    "    \"vermont\": 87,\n",
    "    \"virginia\": 82,\n",
    "    \"washington\": 76,\n",
    "    \"virginia_ocidental\": 76,\n",
    "    \"wisconsin\": 87,\n",
    "    \"wyoning\": 80,\n",
    "    \"distrito_de_columbia\": 59,\n",
    "}"
   ]
  }
 ],
 "metadata": {
  "kernelspec": {
   "display_name": "Python 3",
   "language": "python",
   "name": "python3"
  },
  "language_info": {
   "codemirror_mode": {
    "name": "ipython",
    "version": 3
   },
   "file_extension": ".py",
   "mimetype": "text/x-python",
   "name": "python",
   "nbconvert_exporter": "python",
   "pygments_lexer": "ipython3",
   "version": "3.6.6"
  }
 },
 "nbformat": 4,
 "nbformat_minor": 2
}
