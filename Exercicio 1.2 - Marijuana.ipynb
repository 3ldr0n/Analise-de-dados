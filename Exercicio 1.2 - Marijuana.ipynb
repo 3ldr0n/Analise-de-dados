{
 "cells": [
  {
   "cell_type": "markdown",
   "metadata": {},
   "source": [
    "## (a)\n",
    "\n",
    "O gráfico deve comparar acidentes por motorista ao invés de contagem de acidentes pra ser possível fazer uma comparação de quantidade de motoristas entrevistados por acidentes efetivamente, além de que com esses dados é possível calcular a porcentagem dos acidentes provocados, o que facilita ter uma visão geral sobre o assunto de maneira de igual para igual para apresentar um resultado mais fidedigno.\n",
    "\n",
    "## (b)\n",
    "\n",
    "452 - 100\n",
    "59 - X\n",
    "X =~13%¨\n",
    "\n",
    "229 - 100\n",
    "36 - X\n",
    "X =~15%\n",
    "\n",
    "70 - 100\n",
    "15 - X\n",
    "X =~21%\n",
    "\n",
    "156 - 100\n",
    "50 - X\n",
    "X =~32%"
   ]
  },
  {
   "cell_type": "code",
   "execution_count": null,
   "metadata": {},
   "outputs": [],
   "source": [
    "%matplotlib nbagg\n",
    "import matplotlib.pyplot as plt\n",
    "import numpy as np"
   ]
  },
  {
   "cell_type": "code",
   "execution_count": null,
   "metadata": {},
   "outputs": [],
   "source": [
    "usos = (\"Nunca\",\"1-10 Vezes\",\"11-50 Vezes\",\"51+ Vezes\")\n",
    "barras = np.arange(4)\n",
    "quantbarras = [13, 15, 21, 32]\n",
    "\n",
    "plt.bar(barras, quantbarras, align=\"center\", alpha=1, color = \"black\")\n",
    "plt.ylim([0, 50])\n",
    "plt.xticks(barras, usos)\n",
    "plt.ylabel(\"Porcentagem de acidentes por motorista\")\n",
    "plt.xlabel(\"Usos de marijuana no último ano\")\n",
    "plt.title(\"Marijuana e acidentes de trânsito\")\n",
    "\n",
    "plt.show()"
   ]
  }
 ],
 "metadata": {
  "kernelspec": {
   "display_name": "Python 3",
   "language": "python",
   "name": "python3"
  },
  "language_info": {
   "codemirror_mode": {
    "name": "ipython",
    "version": 3
   },
   "file_extension": ".py",
   "mimetype": "text/x-python",
   "name": "python",
   "nbconvert_exporter": "python",
   "pygments_lexer": "ipython3",
   "version": "3.6.6"
  }
 },
 "nbformat": 4,
 "nbformat_minor": 2
}
