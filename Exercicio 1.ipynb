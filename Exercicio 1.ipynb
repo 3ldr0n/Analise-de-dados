{
 "cells": [
  {
   "cell_type": "code",
   "execution_count": null,
   "metadata": {
    "scrolled": true
   },
   "outputs": [],
   "source": [
    "%matplotlib nbagg\n",
    "import matplotlib.pyplot as plt\n",
    "import numpy as np\n",
    "\n",
    "plt.rcParams[\"figure.figsize\"] = 7,5"
   ]
  },
  {
   "cell_type": "code",
   "execution_count": null,
   "metadata": {},
   "outputs": [],
   "source": [
    "def plot_usuarios(y, title):\n",
    "    x = np.array([\"13-17\", \"18-24\", \"25-34\", \"35-44\", \"45-54\", \"55-64\", \"65+\"])\n",
    "\n",
    "    fig, ax = plt.subplots()\n",
    "\n",
    "    ax.bar(x, y)\n",
    "\n",
    "    ax.set_title(title)\n",
    "    ax.set_xlabel(\"Idade\")\n",
    "\n",
    "    ax.set_ylabel(\"Percentagem de usuários\")\n",
    "    ax.set_ylim([0, 25])\n",
    "\n",
    "    plt.show()"
   ]
  },
  {
   "cell_type": "code",
   "execution_count": null,
   "metadata": {},
   "outputs": [],
   "source": [
    "ticks = np.array([\"13-17\", \"18-24\", \"25-34\", \"35-44\", \"45-54\", \"55-64\", \"65+\"])\n",
    "x = np.array([0, 1, 2, 3, 4, 5, 6])\n",
    "\n",
    "ax = plt.subplot(111)\n",
    "\n",
    "y_facebook = np.array([10, 14, 19, 17, 17,13, 10])\n",
    "y_twitter = np.array([10, 18, 22, 17, 15, 11, 7])\n",
    "y_linkedin = np.array([4, 10, 20, 18, 20, 17, 11])\n",
    "\n",
    "bar_width = 0.3\n",
    "ax.bar(x-bar_width, y_twitter, width=bar_width, color=\"green\", align=\"center\", tick_label=ticks, label=\"Twitter\")\n",
    "ax.bar(x, y_facebook, width=bar_width, color=\"blue\", align=\"center\", label=\"Facebook\")\n",
    "ax.bar(x+bar_width, y_linkedin, width=bar_width, color=\"red\", align=\"center\", label=\"Linkedin\")\n",
    "\n",
    "ax.set_title(\"Usuários de Facebook, Twitter e Linkedin\")\n",
    "ax.set_xlabel(\"Idade\")\n",
    "ax.set_ylabel(\"Percentagem de usuários\")\n",
    "ax.set_ylim([0, 25])\n",
    "\n",
    "plt.legend()\n",
    "ax.get_figure().savefig(\"./grafico\")\n",
    "plt.show()"
   ]
  },
  {
   "cell_type": "markdown",
   "metadata": {},
   "source": [
    "# Usuários de facebook"
   ]
  },
  {
   "cell_type": "code",
   "execution_count": null,
   "metadata": {},
   "outputs": [],
   "source": [
    "y = np.array([10, 14, 19, 17, 17,13, 10])\n",
    "plot_usuarios(y, \"Usuários de facebook\")"
   ]
  },
  {
   "cell_type": "markdown",
   "metadata": {},
   "source": [
    "# Usuários de twitter"
   ]
  },
  {
   "cell_type": "code",
   "execution_count": null,
   "metadata": {},
   "outputs": [],
   "source": [
    "y = np.array([10, 18, 22, 17, 15, 11, 7])\n",
    "plot_usuarios(y, \"Usuários de twitter\")"
   ]
  },
  {
   "cell_type": "markdown",
   "metadata": {},
   "source": [
    "# Usuários de linkedin"
   ]
  },
  {
   "cell_type": "code",
   "execution_count": null,
   "metadata": {},
   "outputs": [],
   "source": [
    "y = np.array([4, 10, 20, 18, 20, 17, 11])\n",
    "plot_usuarios(y, \"Usuários de linkedin\")"
   ]
  }
 ],
 "metadata": {
  "kernelspec": {
   "display_name": "Python 3",
   "language": "python",
   "name": "python3"
  },
  "language_info": {
   "codemirror_mode": {
    "name": "ipython",
    "version": 3
   },
   "file_extension": ".py",
   "mimetype": "text/x-python",
   "name": "python",
   "nbconvert_exporter": "python",
   "pygments_lexer": "ipython3",
   "version": "3.6.6"
  }
 },
 "nbformat": 4,
 "nbformat_minor": 2
}
