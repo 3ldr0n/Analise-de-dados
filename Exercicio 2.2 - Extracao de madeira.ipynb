{
 "cells": [
  {
   "cell_type": "code",
   "execution_count": null,
   "metadata": {},
   "outputs": [],
   "source": [
    "import numpy as np\n",
    "import matplotlib.pyplot as plt\n",
    "\n",
    "plt.rcParams[\"figure.figsize\"] = 8,6"
   ]
  },
  {
   "cell_type": "code",
   "execution_count": null,
   "metadata": {},
   "outputs": [],
   "source": [
    "%matplotlib nbagg\n",
    "\n",
    "grupo1 = np.array([27, 22, 29, 21, 19, 33, 16, 20, 24, 27, 28, 19])\n",
    "grupo2 = np.array([12, 12, 15, 9, 20, 18, 17, 14, 14, 2, 17, 19])\n",
    "grupo3 = np.array([18, 4, 22, 15, 18, 19, 22, 12,  12, 0, 0, 0])\n",
    "\n",
    "x = np.array([1, 2, 3, 4, 5, 6, 7, 8, 9, 10, 11, 12])\n",
    "ticks = np.array([\n",
    "    \"Jan\", \"Fev\", \"Mar\", \"Abr\", \"Maio\", \"Jun\", \"Jul\", \"Ago\",\n",
    "    \"Set\", \"Ou\", \"Nov\", \"Dez\"\n",
    "])\n",
    "\n",
    "fig, axes = plt.subplots()\n",
    "\n",
    "bar_width = 0.3\n",
    "axes.bar(x-bar_width, grupo1, width=bar_width, align='center', label=\"Nunca sofreu extração\")\n",
    "axes.bar(x, grupo2, width=bar_width, align='center', tick_label=ticks, label=\"Explorado 1 ano antes\")\n",
    "axes.bar(x+bar_width, grupo3, width=bar_width, align='center', label=\"Explorado 8 anos antes\")\n",
    "axes.set_title(\"Extração de madeira em floresta tropical\")\n",
    "axes.set_xlabel(\"Meses\")\n",
    "axes.set_ylabel(\"Contagem de árvores por pedaço (0,1 hectare)\")\n",
    "\n",
    "plt.legend()\n",
    "plt.show()"
   ]
  }
 ],
 "metadata": {
  "kernelspec": {
   "display_name": "Python 3",
   "language": "python",
   "name": "python3"
  },
  "language_info": {
   "codemirror_mode": {
    "name": "ipython",
    "version": 3
   },
   "file_extension": ".py",
   "mimetype": "text/x-python",
   "name": "python",
   "nbconvert_exporter": "python",
   "pygments_lexer": "ipython3",
   "version": "3.6.6"
  }
 },
 "nbformat": 4,
 "nbformat_minor": 2
}
