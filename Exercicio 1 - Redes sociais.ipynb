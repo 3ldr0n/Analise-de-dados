{
 "cells": [
  {
   "cell_type": "code",
   "execution_count": null,
   "metadata": {
    "scrolled": true
   },
   "outputs": [],
   "source": [
    "%matplotlib nbagg\n",
    "import matplotlib.pyplot as plt\n",
    "import numpy as np\n",
    "\n",
    "plt.rcParams[\"figure.figsize\"] = 7,5"
   ]
  },
  {
   "cell_type": "markdown",
   "metadata": {},
   "source": [
    "# Usuário de Facebook, Twitter e Linkedin"
   ]
  },
  {
   "cell_type": "code",
   "execution_count": null,
   "metadata": {},
   "outputs": [],
   "source": [
    "ticks = np.array([\"13-17\", \"18-24\", \"25-34\", \"35-44\", \"45-54\", \"55-64\", \"65+\"])\n",
    "x = np.array([0, 1, 2, 3, 4, 5, 6])\n",
    "\n",
    "ax = plt.subplot(111)\n",
    "\n",
    "y_facebook = np.array([10, 14, 19, 17, 17,13, 10])\n",
    "y_twitter = np.array([10, 18, 22, 17, 15, 11, 7])\n",
    "y_linkedin = np.array([4, 10, 20, 18, 20, 17, 11])\n",
    "\n",
    "bar_width = 0.3\n",
    "ax.bar(x-bar_width, y_twitter, width=bar_width, color=\"green\", align=\"center\", tick_label=ticks, label=\"Twitter\")\n",
    "ax.bar(x, y_facebook, width=bar_width, color=\"blue\", align=\"center\", label=\"Facebook\")\n",
    "ax.bar(x+bar_width, y_linkedin, width=bar_width, color=\"red\", align=\"center\", label=\"Linkedin\")\n",
    "\n",
    "ax.set_title(\"Usuários de Facebook, Twitter e Linkedin\")\n",
    "ax.set_xlabel(\"Idade\")\n",
    "ax.set_ylabel(\"Percentagem de usuários\")\n",
    "ax.set_ylim([0, 25])\n",
    "\n",
    "plt.legend()\n",
    "ax.get_figure().savefig(\"./grafico\")\n",
    "plt.show()"
   ]
  },
  {
   "cell_type": "markdown",
   "metadata": {},
   "source": [
    "# Gráfico de setores - Usuários facebook"
   ]
  },
  {
   "cell_type": "code",
   "execution_count": null,
   "metadata": {},
   "outputs": [],
   "source": [
    "%matplotlib nbagg\n",
    "labels = ticks\n",
    "\n",
    "plt.axis(\"equal\")\n",
    "plt.pie(y_facebook, labels=labels, autopct=\"%1.f%%\", shadow=True, startangle=90)\n",
    "plt.title(\"Usuário de Facebook de acordo com a idade\")\n",
    "plt.show()"
   ]
  },
  {
   "cell_type": "markdown",
   "metadata": {},
   "source": [
    "# Gráfico de setores - Usuários de Twitter"
   ]
  },
  {
   "cell_type": "code",
   "execution_count": null,
   "metadata": {},
   "outputs": [],
   "source": [
    "%matplotlib nbagg\n",
    "\n",
    "plt.axis(\"equal\")\n",
    "plt.pie(y_twitter, labels = labels, autopct = \"%1.f%%\", shadow = True, startangle = 90)\n",
    "plt.title(\"Usuário de Twitter de acordo com a idade\")\n",
    "plt.show()"
   ]
  },
  {
   "cell_type": "markdown",
   "metadata": {},
   "source": [
    "# Gráfico de setores - Usuários de Linkedin"
   ]
  },
  {
   "cell_type": "code",
   "execution_count": null,
   "metadata": {},
   "outputs": [],
   "source": [
    "%matplotlib nbagg\n",
    "\n",
    "plt.axis(\"equal\")\n",
    "plt.pie(y_linkedin, labels = labels, autopct = \"%1.f%%\", shadow = True, startangle = 90)\n",
    "plt.title(\"Usuário de Linkedin de acordo com a idade\")\n",
    "plt.show()"
   ]
  }
 ],
 "metadata": {
  "kernelspec": {
   "display_name": "Python 3",
   "language": "python",
   "name": "python3"
  },
  "language_info": {
   "codemirror_mode": {
    "name": "ipython",
    "version": 3
   },
   "file_extension": ".py",
   "mimetype": "text/x-python",
   "name": "python",
   "nbconvert_exporter": "python",
   "pygments_lexer": "ipython3",
   "version": "3.6.6"
  }
 },
 "nbformat": 4,
 "nbformat_minor": 2
}
